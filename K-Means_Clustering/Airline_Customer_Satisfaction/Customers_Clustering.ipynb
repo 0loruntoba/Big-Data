{
 "cells": [
  {
   "cell_type": "markdown",
   "id": "03d15c09-fbf5-44e9-b27a-8b9c79c259c0",
   "metadata": {},
   "source": [
    "**Installing Pyspark**"
   ]
  },
  {
   "cell_type": "code",
   "execution_count": 2,
   "id": "a2ba6929-6c9c-4edb-bb7a-d8a598a187b3",
   "metadata": {},
   "outputs": [
    {
     "name": "stdout",
     "output_type": "stream",
     "text": [
      "Requirement already satisfied: pyspark in /opt/anaconda3/lib/python3.12/site-packages (3.5.1)\n",
      "Requirement already satisfied: py4j==0.10.9.7 in /opt/anaconda3/lib/python3.12/site-packages (from pyspark) (0.10.9.7)\n",
      "Note: you may need to restart the kernel to use updated packages.\n"
     ]
    }
   ],
   "source": [
    "pip install pyspark"
   ]
  },
  {
   "cell_type": "markdown",
   "id": "f6776d34-2fd3-4597-973c-77185888e602",
   "metadata": {},
   "source": [
    "**Installing required libraries**"
   ]
  },
  {
   "cell_type": "code",
   "execution_count": 4,
   "id": "de16ddf1-c909-4ff7-95c8-a6a4f62d1357",
   "metadata": {},
   "outputs": [],
   "source": [
    "from pyspark.sql import SparkSession\n",
    "from pyspark.sql.functions import col\n",
    "from pyspark.ml.feature import VectorAssembler, StringIndexer\n",
    "from pyspark.ml.clustering import KMeans\n",
    "from pyspark.ml.evaluation import ClusteringEvaluator\n",
    "from pyspark.ml.regression import LinearRegression\n",
    "import pandas as pd\n",
    "import matplotlib.pyplot as plt"
   ]
  },
  {
   "cell_type": "markdown",
   "id": "95c5551b-9fd4-4ea3-a616-09c0926ba1e9",
   "metadata": {},
   "source": [
    "**Initiating SparkSession and loading the dataset**"
   ]
  },
  {
   "cell_type": "code",
   "execution_count": 6,
   "id": "81f308b8-c4ba-4f6c-b4f7-157d1147d75f",
   "metadata": {},
   "outputs": [
    {
     "name": "stderr",
     "output_type": "stream",
     "text": [
      "24/07/20 22:23:59 WARN Utils: Your hostname, OlorunMac.local resolves to a loopback address: 127.0.0.1; using 172.16.62.32 instead (on interface en0)\n",
      "24/07/20 22:23:59 WARN Utils: Set SPARK_LOCAL_IP if you need to bind to another address\n",
      "Setting default log level to \"WARN\".\n",
      "To adjust logging level use sc.setLogLevel(newLevel). For SparkR, use setLogLevel(newLevel).\n",
      "24/07/20 22:23:59 WARN NativeCodeLoader: Unable to load native-hadoop library for your platform... using builtin-java classes where applicable\n"
     ]
    }
   ],
   "source": [
    "spark = SparkSession.builder.appName(\"Customer Satisfaction Clustering\").getOrCreate()"
   ]
  },
  {
   "cell_type": "code",
   "execution_count": 7,
   "id": "e4dc337f-6aea-41ed-aa33-653e36ddc060",
   "metadata": {},
   "outputs": [
    {
     "name": "stdout",
     "output_type": "stream",
     "text": [
      "/Users/oloruntoba/Downloads\n"
     ]
    }
   ],
   "source": [
    "#change the working directory (not important!)\n",
    "import os\n",
    "os.chdir(\"/Users/oloruntoba/Downloads\")\n",
    "!pwd"
   ]
  },
  {
   "cell_type": "code",
   "execution_count": 8,
   "id": "e79b3158-7519-46bd-a680-973a803d1134",
   "metadata": {},
   "outputs": [
    {
     "name": "stdout",
     "output_type": "stream",
     "text": [
      "+---+------+---+-------------+--------------+--------+---------------+---------------+-------------+--------------------------------------+----------------------+----------------+---------------+-------------+----------------+------------+----------------+-----------+--------------+-----------------+----------------------+-----------------------+----------------+--------------------+\n",
      "| ID|Gender|Age|Customer Type|Type of Travel|   Class|Flight Distance|Departure Delay|Arrival Delay|Departure and Arrival Time Convenience|Ease of Online Booking|Check-in Service|Online Boarding|Gate Location|On-board Service|Seat Comfort|Leg Room Service|Cleanliness|Food and Drink|In-flight Service|In-flight Wifi Service|In-flight Entertainment|Baggage Handling|        Satisfaction|\n",
      "+---+------+---+-------------+--------------+--------+---------------+---------------+-------------+--------------------------------------+----------------------+----------------+---------------+-------------+----------------+------------+----------------+-----------+--------------+-----------------+----------------------+-----------------------+----------------+--------------------+\n",
      "|  1|  Male| 48|   First-time|      Business|Business|            821|              2|            5|                                     3|                     3|               4|              3|            3|               3|           5|               2|          5|             5|                5|                     3|                      5|               5|Neutral or Dissat...|\n",
      "|  2|Female| 35|    Returning|      Business|Business|            821|             26|           39|                                     2|                     2|               3|              5|            2|               5|           4|               5|          5|             3|                5|                     2|                      5|               5|           Satisfied|\n",
      "|  3|  Male| 41|    Returning|      Business|Business|            853|              0|            0|                                     4|                     4|               4|              5|            4|               3|           5|               3|          5|             5|                3|                     4|                      3|               3|           Satisfied|\n",
      "|  4|  Male| 50|    Returning|      Business|Business|           1905|              0|            0|                                     2|                     2|               3|              4|            2|               5|           5|               5|          4|             4|                5|                     2|                      5|               5|           Satisfied|\n",
      "|  5|Female| 49|    Returning|      Business|Business|           3470|              0|            1|                                     3|                     3|               3|              5|            3|               3|           4|               4|          5|             4|                3|                     3|                      3|               3|           Satisfied|\n",
      "+---+------+---+-------------+--------------+--------+---------------+---------------+-------------+--------------------------------------+----------------------+----------------+---------------+-------------+----------------+------------+----------------+-----------+--------------+-----------------+----------------------+-----------------------+----------------+--------------------+\n",
      "only showing top 5 rows\n",
      "\n"
     ]
    }
   ],
   "source": [
    "data = spark.read.csv(\"airline_passenger_satisfaction.csv\", header=True, inferSchema=True)\n",
    "data.show(5)"
   ]
  },
  {
   "cell_type": "code",
   "execution_count": 9,
   "id": "3d44017a-4ce5-467b-b822-51ca313a144c",
   "metadata": {},
   "outputs": [],
   "source": [
    "spark.conf.set(\"spark.sql.debug.maxToStringFields\", 1000) #Allowing spark display a more complete representation of query plans"
   ]
  },
  {
   "cell_type": "markdown",
   "id": "e2caa321-5117-417b-b8e9-f9eb4df81f35",
   "metadata": {},
   "source": [
    "**Data processing and convertion of categorical columns to numerical**"
   ]
  },
  {
   "cell_type": "code",
   "execution_count": 11,
   "id": "a2127417-171d-426e-a1a2-60ec37131216",
   "metadata": {},
   "outputs": [
    {
     "name": "stdout",
     "output_type": "stream",
     "text": [
      "+---+------+---+-------------+--------------+--------+---------------+---------------+-------------+--------------------------------------+----------------------+----------------+---------------+-------------+----------------+------------+----------------+-----------+--------------+-----------------+----------------------+-----------------------+----------------+--------------------+-----------+-------------------+-----------------+----------+-----------------+\n",
      "| ID|Gender|Age|Customer Type|Type of Travel|   Class|Flight Distance|Departure Delay|Arrival Delay|Departure and Arrival Time Convenience|Ease of Online Booking|Check-in Service|Online Boarding|Gate Location|On-board Service|Seat Comfort|Leg Room Service|Cleanliness|Food and Drink|In-flight Service|In-flight Wifi Service|In-flight Entertainment|Baggage Handling|        Satisfaction|GenderIndex|Customer_type_Index|Travel_type_Index|ClassIndex|SatisfactionIndex|\n",
      "+---+------+---+-------------+--------------+--------+---------------+---------------+-------------+--------------------------------------+----------------------+----------------+---------------+-------------+----------------+------------+----------------+-----------+--------------+-----------------+----------------------+-----------------------+----------------+--------------------+-----------+-------------------+-----------------+----------+-----------------+\n",
      "|  1|  Male| 48|   First-time|      Business|Business|            821|              2|            5|                                     3|                     3|               4|              3|            3|               3|           5|               2|          5|             5|                5|                     3|                      5|               5|Neutral or Dissat...|        1.0|                1.0|              0.0|       0.0|              0.0|\n",
      "|  2|Female| 35|    Returning|      Business|Business|            821|             26|           39|                                     2|                     2|               3|              5|            2|               5|           4|               5|          5|             3|                5|                     2|                      5|               5|           Satisfied|        0.0|                0.0|              0.0|       0.0|              1.0|\n",
      "|  3|  Male| 41|    Returning|      Business|Business|            853|              0|            0|                                     4|                     4|               4|              5|            4|               3|           5|               3|          5|             5|                3|                     4|                      3|               3|           Satisfied|        1.0|                0.0|              0.0|       0.0|              1.0|\n",
      "|  4|  Male| 50|    Returning|      Business|Business|           1905|              0|            0|                                     2|                     2|               3|              4|            2|               5|           5|               5|          4|             4|                5|                     2|                      5|               5|           Satisfied|        1.0|                0.0|              0.0|       0.0|              1.0|\n",
      "|  5|Female| 49|    Returning|      Business|Business|           3470|              0|            1|                                     3|                     3|               3|              5|            3|               3|           4|               4|          5|             4|                3|                     3|                      3|               3|           Satisfied|        0.0|                0.0|              0.0|       0.0|              1.0|\n",
      "+---+------+---+-------------+--------------+--------+---------------+---------------+-------------+--------------------------------------+----------------------+----------------+---------------+-------------+----------------+------------+----------------+-----------+--------------+-----------------+----------------------+-----------------------+----------------+--------------------+-----------+-------------------+-----------------+----------+-----------------+\n",
      "only showing top 5 rows\n",
      "\n"
     ]
    }
   ],
   "source": [
    "#remove rows with null values\n",
    "data = data.na.drop()\n",
    "#create indexers and transform the columns with categorical values to numerical\n",
    "indexer_gender = StringIndexer(inputCol=\"Gender\", outputCol=\"GenderIndex\")\n",
    "indexer_customer_type = StringIndexer(inputCol=\"Customer Type\", outputCol=\"Customer_type_Index\")\n",
    "indexer_travel_type = StringIndexer(inputCol=\"Type of Travel\", outputCol=\"Travel_type_Index\")\n",
    "indexer_class = StringIndexer(inputCol=\"Class\", outputCol=\"ClassIndex\")\n",
    "indexer_satisfaction = StringIndexer(inputCol=\"Satisfaction\", outputCol=\"SatisfactionIndex\")\n",
    "#fit the indexers to the data and apply to the dataframe\n",
    "data = indexer_gender.fit(data).transform(data)\n",
    "data = indexer_customer_type.fit(data).transform(data)\n",
    "data = indexer_travel_type.fit(data).transform(data)\n",
    "data = indexer_class.fit(data).transform(data)\n",
    "data = indexer_satisfaction.fit(data).transform(data)\n",
    "#display the first 5 rowa of the tranformed dataframe\n",
    "data.show(5)"
   ]
  },
  {
   "cell_type": "markdown",
   "id": "0583a7b8-b4ff-4d23-a8aa-4d7149de12ce",
   "metadata": {},
   "source": [
    "**The feature importance capabilities of Linear Regression will be leveraged to calculate the feature relevance for the dataset**"
   ]
  },
  {
   "cell_type": "markdown",
   "id": "c92ad626-d96f-4768-a663-833e2672d29f",
   "metadata": {},
   "source": [
    "**Assembling required features into a single column**"
   ]
  },
  {
   "cell_type": "code",
   "execution_count": 14,
   "id": "1e0839e4-c6cf-4091-9ea0-9eae61a9d29a",
   "metadata": {},
   "outputs": [
    {
     "name": "stdout",
     "output_type": "stream",
     "text": [
      "+---+------+---+-------------+--------------+--------+---------------+---------------+-------------+--------------------------------------+----------------------+----------------+---------------+-------------+----------------+------------+----------------+-----------+--------------+-----------------+----------------------+-----------------------+----------------+--------------------+-----------+-------------------+-----------------+----------+-----------------+--------------------+\n",
      "| ID|Gender|Age|Customer Type|Type of Travel|   Class|Flight Distance|Departure Delay|Arrival Delay|Departure and Arrival Time Convenience|Ease of Online Booking|Check-in Service|Online Boarding|Gate Location|On-board Service|Seat Comfort|Leg Room Service|Cleanliness|Food and Drink|In-flight Service|In-flight Wifi Service|In-flight Entertainment|Baggage Handling|        Satisfaction|GenderIndex|Customer_type_Index|Travel_type_Index|ClassIndex|SatisfactionIndex|            features|\n",
      "+---+------+---+-------------+--------------+--------+---------------+---------------+-------------+--------------------------------------+----------------------+----------------+---------------+-------------+----------------+------------+----------------+-----------+--------------+-----------------+----------------------+-----------------------+----------------+--------------------+-----------+-------------------+-----------------+----------+-----------------+--------------------+\n",
      "|  1|  Male| 48|   First-time|      Business|Business|            821|              2|            5|                                     3|                     3|               4|              3|            3|               3|           5|               2|          5|             5|                5|                     3|                      5|               5|Neutral or Dissat...|        1.0|                1.0|              0.0|       0.0|              0.0|[48.0,821.0,2.0,5...|\n",
      "|  2|Female| 35|    Returning|      Business|Business|            821|             26|           39|                                     2|                     2|               3|              5|            2|               5|           4|               5|          5|             3|                5|                     2|                      5|               5|           Satisfied|        0.0|                0.0|              0.0|       0.0|              1.0|[35.0,821.0,26.0,...|\n",
      "|  3|  Male| 41|    Returning|      Business|Business|            853|              0|            0|                                     4|                     4|               4|              5|            4|               3|           5|               3|          5|             5|                3|                     4|                      3|               3|           Satisfied|        1.0|                0.0|              0.0|       0.0|              1.0|[41.0,853.0,0.0,0...|\n",
      "|  4|  Male| 50|    Returning|      Business|Business|           1905|              0|            0|                                     2|                     2|               3|              4|            2|               5|           5|               5|          4|             4|                5|                     2|                      5|               5|           Satisfied|        1.0|                0.0|              0.0|       0.0|              1.0|[50.0,1905.0,0.0,...|\n",
      "|  5|Female| 49|    Returning|      Business|Business|           3470|              0|            1|                                     3|                     3|               3|              5|            3|               3|           4|               4|          5|             4|                3|                     3|                      3|               3|           Satisfied|        0.0|                0.0|              0.0|       0.0|              1.0|[49.0,3470.0,0.0,...|\n",
      "+---+------+---+-------------+--------------+--------+---------------+---------------+-------------+--------------------------------------+----------------------+----------------+---------------+-------------+----------------+------------+----------------+-----------+--------------+-----------------+----------------------+-----------------------+----------------+--------------------+-----------+-------------------+-----------------+----------+-----------------+--------------------+\n",
      "only showing top 5 rows\n",
      "\n"
     ]
    }
   ],
   "source": [
    "#define the target variable for the model\n",
    "target_variable = \"SatisfactionIndex\" # Define the target variable\n",
    "#create a list of feature columns for the model\n",
    "feature_cols = [\"Age\", \"Flight Distance\", \"Departure Delay\", \"Arrival Delay\", \"Departure and Arrival Time Convenience\", \"Ease of Online Booking\", \n",
    "                \"Check-in Service\", \"Online Boarding\", \"Gate Location\", \"On-board Service\", \"Seat Comfort\", \"Leg Room Service\", \"Cleanliness\", \n",
    "                \"Food and Drink\", \"In-flight Service\", \"In-flight Wifi Service\", \"In-flight Entertainment\", \"Baggage Handling\", \"GenderIndex\", \n",
    "                \"Customer_type_Index\", \"Travel_type_Index\", \"ClassIndex\"]\n",
    "\n",
    "# create a vactorassembler object to transform the columns into a single vector column\n",
    "assembler = VectorAssembler(inputCols=feature_cols, outputCol=\"features\")\n",
    "#apply the vectorassembler to the data\n",
    "data = assembler.transform(data)\n",
    "#display the first 5 rows of the tranformed dataframe\n",
    "data.show(5)"
   ]
  },
  {
   "cell_type": "code",
   "execution_count": 15,
   "id": "db9331c4-b9ab-4ba3-ad0d-aa7769501dbd",
   "metadata": {},
   "outputs": [
    {
     "name": "stderr",
     "output_type": "stream",
     "text": [
      "24/07/20 22:24:05 WARN InstanceBuilder: Failed to load implementation from:dev.ludovic.netlib.blas.JNIBLAS\n",
      "24/07/20 22:24:05 WARN InstanceBuilder: Failed to load implementation from:dev.ludovic.netlib.blas.VectorBLAS\n",
      "24/07/20 22:24:05 WARN InstanceBuilder: Failed to load implementation from:dev.ludovic.netlib.lapack.JNILAPACK\n"
     ]
    }
   ],
   "source": [
    "#create a vectorassmebler and convert the features column(sparse vector) into a dense vector\n",
    "assembler = VectorAssembler(inputCols=[\"features\"], outputCol=\"dense_features\")\n",
    "#apply the vectorassembler to the data\n",
    "data_assembled = assembler.transform(data)\n",
    "#create a linearregression object\n",
    "lr = LinearRegression(featuresCol=\"dense_features\", labelCol=\"SatisfactionIndex\", regParam=0.1)\n",
    "#train the linear regression model on the assembled data\n",
    "model = lr.fit(data_assembled)"
   ]
  },
  {
   "cell_type": "code",
   "execution_count": 16,
   "id": "634b1ce3-7d0c-4635-bd9f-bfe5a80eb7db",
   "metadata": {},
   "outputs": [],
   "source": [
    "# feature importance from Coefficients\n",
    "coefficients = model.coefficients\n",
    "feature_importances = [(feature, coef) for feature, coef in zip(feature_cols, coefficients)]"
   ]
  },
  {
   "cell_type": "code",
   "execution_count": 17,
   "id": "a94b5fbe-3483-44ae-a24b-d908563a0567",
   "metadata": {},
   "outputs": [
    {
     "name": "stdout",
     "output_type": "stream",
     "text": [
      "Silhouette Score: 0.839834481430811\n"
     ]
    }
   ],
   "source": [
    "#create a KMeans object\n",
    "kmeans = KMeans(featuresCol=\"features\", k=2)\n",
    "#train the KMeans model on the data\n",
    "model = kmeans.fit(data)\n",
    "#apply the trained model to the data\n",
    "predictions = model.transform(data)\n",
    "#assess the quality of the clusters\n",
    "evaluator = ClusteringEvaluator(featuresCol=\"features\")\n",
    "#calculate the silhoutte score\n",
    "silhouette = evaluator.evaluate(predictions)\n",
    "#print the silhouette score\n",
    "print(f\"Silhouette Score: {silhouette}\")"
   ]
  },
  {
   "cell_type": "markdown",
   "id": "9657df49-0639-4ead-a989-2ee5dad605c1",
   "metadata": {},
   "source": [
    "**Visualization using Pandas and Matplotlib**"
   ]
  },
  {
   "cell_type": "code",
   "execution_count": 19,
   "id": "a877b28e-c03b-45dc-a754-0d2fff59e995",
   "metadata": {},
   "outputs": [
    {
     "data": {
      "image/png": "[encoded data removed]",
      "text/plain": [
       "<Figure size 1000x600 with 2 Axes>"
      ]
     },
     "metadata": {},
     "output_type": "display_data"
    }
   ],
   "source": [
    "#convert the spark dataframe into pandas dataframe\n",
    "predictions_pandas = predictions.select(\"ID\", \"features\", \"prediction\").toPandas()\n",
    "#convert the feature column(vector) into an array\n",
    "features_pandas = predictions_pandas[\"features\"].apply(lambda x: x.toArray())\n",
    "#create a pandas dataframe from the above arrays\n",
    "features_df = pd.DataFrame(features_pandas.tolist(), columns=feature_cols)\n",
    "#add column 'cluster' to the dataframe\n",
    "features_df[\"Cluster\"] = predictions_pandas[\"prediction\"]\n",
    "\n",
    "#setup the plot size\n",
    "plt.figure(figsize=(10, 6))\n",
    "#create a scatter plot using matplotlib\n",
    "plt.scatter(features_df[\"Departure and Arrival Time Convenience\"], features_df[\"Departure Delay\"], c=features_df[\"Cluster\"], cmap=\"viridis\", marker=\"o\")\n",
    "#set the x-axis label\n",
    "plt.xlabel(\"Departure and Arrival Time Convenience\")\n",
    "#set the y-axis label\n",
    "plt.ylabel(\"Departure Delay\")\n",
    "#set the plot title\n",
    "plt.title(\"Departure Time Convenience\")\n",
    "#indicate the cluster assignments with a colour bar\n",
    "plt.colorbar(label='Cluster')\n",
    "#display the plot\n",
    "plt.show()"
   ]
  },
  {
   "cell_type": "markdown",
   "id": "580b8d9c-8ef0-477c-a265-4cc12c886612",
   "metadata": {},
   "source": [
    "**Determining the optimal number of clusters and highest silhouette score**"
   ]
  },
  {
   "cell_type": "code",
   "execution_count": 21,
   "id": "83cbca65-a673-4dd8-ba87-27fadd2f74c4",
   "metadata": {},
   "outputs": [
    {
     "name": "stderr",
     "output_type": "stream",
     "text": [
      "24/07/20 22:24:14 WARN GarbageCollectionMetrics: To enable non-built-in garbage collector(s) List(G1 Concurrent GC), users should configure it(them) to spark.eventLog.gcMetrics.youngGenerationGarbageCollectors or spark.eventLog.gcMetrics.oldGenerationGarbageCollectors\n"
     ]
    },
    {
     "name": "stdout",
     "output_type": "stream",
     "text": [
      "Optimal number of clusters is 2, and the Highest silhouette score is 0.839834481430811\n"
     ]
    }
   ],
   "source": [
    "#define the range of clusters\n",
    "k_values = range(2, 11)\n",
    "#initialize a list to store tje silhouette scores\n",
    "silhouette_scores = []\n",
    "#iterate over each value of k\n",
    "for k in k_values:\n",
    "    #create a KMeans object for the current value of k\n",
    "    kmeans = KMeans(featuresCol=\"features\", k=k)\n",
    "    #train the model on the data with current k value\n",
    "    model = kmeans.fit(data)\n",
    "    #apply the trained model to the data, assigning each data point to a cluster\n",
    "    predictions = model.transform(data)\n",
    "    #assess the cluster quality\n",
    "    evaluator = ClusteringEvaluator(featuresCol=\"features\")\n",
    "    #compute the silhouette score for the current value of k\n",
    "    silhouette = evaluator.evaluate(predictions)\n",
    "    #append the computed score to the silhouette score list\n",
    "    silhouette_scores.append(silhouette)\n",
    "#find the best value of k that corresponds to the highest silhouette score\n",
    "best_k = k_values[silhouette_scores.index(max(silhouette_scores))]\n",
    "#print the optimal number of clusters with the corresponding silhouette score\n",
    "print(f\"Optimal number of clusters is {best_k}, and the Highest silhouette score is {max(silhouette_scores)}\")"
   ]
  },
  {
   "cell_type": "markdown",
   "id": "c681334f-925f-4229-9ff1-6e7fd830e1f6",
   "metadata": {},
   "source": [
    "**Determining the most impacting features on customer satisfaction**"
   ]
  },
  {
   "cell_type": "code",
   "execution_count": 23,
   "id": "d47c52e1-1d10-478a-8630-a09ccacaaeab",
   "metadata": {},
   "outputs": [
    {
     "name": "stdout",
     "output_type": "stream",
     "text": [
      "Feature Importances:\n",
      "Age: -0.00014158095185396968\n",
      "Flight Distance: 1.782177672190887e-05\n",
      "Departure Delay: -0.00012564429464861682\n",
      "Arrival Delay: -0.00034152109123717375\n",
      "Departure and Arrival Time Convenience: -0.017504934758368475\n",
      "Ease of Online Booking: -0.01385573207405859\n",
      "Check-in Service: 0.0325287717796033\n",
      "Online Boarding: 0.06993792131218883\n",
      "Gate Location: -0.0018319267721343955\n",
      "On-board Service: 0.03177809624993472\n",
      "Seat Comfort: 0.01545610645585243\n",
      "Leg Room Service: 0.0316582742166906\n",
      "Cleanliness: 0.020458400354658596\n",
      "Food and Drink: -0.0012162839158668696\n",
      "In-flight Service: 0.015035598836151954\n",
      "In-flight Wifi Service: 0.04660597466673648\n",
      "In-flight Entertainment: 0.021957100506000114\n",
      "Baggage Handling: 0.01695424537567271\n",
      "GenderIndex: 0.008286451610506496\n",
      "Customer_type_Index: -0.22251534626668204\n",
      "Travel_type_Index: -0.2999038240119394\n",
      "ClassIndex: -0.09475845051875414\n"
     ]
    }
   ],
   "source": [
    "#header name\n",
    "print(\"Feature Importances:\")\n",
    "#iterate over the feature importance list\n",
    "for feature, importance in feature_importances:\n",
    "    #print the feature name and its importance score\n",
    "    print(f\"{feature}: {importance}\")"
   ]
  },
  {
   "cell_type": "code",
   "execution_count": 24,
   "id": "43d2bf11-b344-4653-86f5-7c67291c1fcc",
   "metadata": {},
   "outputs": [],
   "source": [
    "#stop the spark session\n",
    "spark.stop()"
   ]
  }
 ],
 "metadata": {
  "kernelspec": {
   "display_name": "Python 3 (ipykernel)",
   "language": "python",
   "name": "python3"
  },
  "language_info": {
   "codemirror_mode": {
    "name": "ipython",
    "version": 3
   },
   "file_extension": ".py",
   "mimetype": "text/x-python",
   "name": "python",
   "nbconvert_exporter": "python",
   "pygments_lexer": "ipython3",
   "version": "3.12.4"
  }
 },
 "nbformat": 4,
 "nbformat_minor": 5
}
